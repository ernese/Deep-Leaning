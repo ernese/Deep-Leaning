{
  "nbformat": 4,
  "nbformat_minor": 0,
  "metadata": {
    "colab": {
      "name": "(LBP)ANN.ipynb",
      "provenance": [],
      "authorship_tag": "ABX9TyP82Ec+GQ2hmZGdg8Jmh1aM",
      "include_colab_link": true
    },
    "kernelspec": {
      "name": "python3",
      "display_name": "Python 3"
    }
  },
  "cells": [
    {
      "cell_type": "markdown",
      "metadata": {
        "id": "view-in-github",
        "colab_type": "text"
      },
      "source": [
        "<a href=\"https://colab.research.google.com/github/ernese/Deep-Learning-AUT2020/blob/master/(LBP)ANN.ipynb\" target=\"_parent\"><img src=\"https://colab.research.google.com/assets/colab-badge.svg\" alt=\"Open In Colab\"/></a>"
      ]
    },
    {
      "cell_type": "code",
      "metadata": {
        "id": "DQhogjKarp3F",
        "colab_type": "code",
        "outputId": "aee24bc0-6491-4671-d08f-785bcc3579b0",
        "colab": {
          "base_uri": "https://localhost:8080/",
          "height": 102
        }
      },
      "source": [
        "import tensorflow as tf\n",
        "import os\n",
        "import numpy as np\n",
        "from tensorflow import keras\n",
        "%load_ext tensorboard\n",
        "import matplotlib.pyplot as plt\n",
        "from skimage import feature \n",
        "from sklearn import metrics\n",
        "%matplotlib inline\n",
        "import pandas as pd\n",
        "import matplotlib.pyplot as plt\n",
        "import cv2\n",
        "import seaborn as sns\n",
        "\n",
        "from google.colab import drive\n",
        "drive.mount('/content/gdrive')\n",
        "\n",
        "print(tf.__version__)\n",
        "print(keras.__version__)"
      ],
      "execution_count": 0,
      "outputs": [
        {
          "output_type": "stream",
          "text": [
            "Drive already mounted at /content/gdrive; to attempt to forcibly remount, call drive.mount(\"/content/gdrive\", force_remount=True).\n",
            "2.2.0-rc2\n",
            "2.3.0-tf\n"
          ],
          "name": "stdout"
        },
        {
          "output_type": "stream",
          "text": [
            "/usr/local/lib/python3.6/dist-packages/statsmodels/tools/_testing.py:19: FutureWarning: pandas.util.testing is deprecated. Use the functions in the public API at pandas.testing instead.\n",
            "  import pandas.util.testing as tm\n"
          ],
          "name": "stderr"
        }
      ]
    },
    {
      "cell_type": "code",
      "metadata": {
        "id": "me2u7IP3rxTq",
        "colab_type": "code",
        "colab": {}
      },
      "source": [
        "mnist=tf.keras.datasets.mnist"
      ],
      "execution_count": 0,
      "outputs": []
    },
    {
      "cell_type": "code",
      "metadata": {
        "id": "eizQr63cr5az",
        "colab_type": "code",
        "outputId": "40161b7d-3aeb-4b42-ff66-03c0cb38bdb5",
        "colab": {
          "base_uri": "https://localhost:8080/",
          "height": 51
        }
      },
      "source": [
        "(X_train,y_train), (X_test, y_test) = mnist.load_data()\n",
        "print(X_train.shape)\n",
        "print(X_train.dtype)"
      ],
      "execution_count": 0,
      "outputs": [
        {
          "output_type": "stream",
          "text": [
            "(60000, 28, 28)\n",
            "uint8\n"
          ],
          "name": "stdout"
        }
      ]
    },
    {
      "cell_type": "code",
      "metadata": {
        "id": "yVk43GCrrxqJ",
        "colab_type": "code",
        "outputId": "254e27b0-a2ae-4535-e370-5624ddc62fd2",
        "colab": {
          "base_uri": "https://localhost:8080/",
          "height": 51
        }
      },
      "source": [
        "labelNames = [\"0\", \"1\", \"2\", \"3\", \"4\", \"5\", \"6\", \"7\", \"8\", \"9\"]\n",
        "\n",
        "print(np.shape(X_train))\n",
        "print(np.shape(X_test))"
      ],
      "execution_count": 0,
      "outputs": [
        {
          "output_type": "stream",
          "text": [
            "(60000, 28, 28)\n",
            "(10000, 28, 28)\n"
          ],
          "name": "stdout"
        }
      ]
    },
    {
      "cell_type": "code",
      "metadata": {
        "id": "eq_xmLvyr28R",
        "colab_type": "code",
        "outputId": "e5fdf0c8-f07b-4c86-a6df-4e2fbf8058fd",
        "colab": {
          "base_uri": "https://localhost:8080/",
          "height": 68
        }
      },
      "source": [
        "valid_images = X_train[:5000].astype('float32') / 255.0\n",
        "valid_labels = y_train[:5000]\n",
        "\n",
        "train_images = X_train[5000:].astype('float32') / 255.0\n",
        "train_labels = y_train[5000:]\n",
        "\n",
        "test_images = X_test.astype('float32') / 255.0\n",
        "test_labels = y_test\n",
        "print(np.shape(train_images))\n",
        "print(np.shape(valid_images))\n",
        "print(np.shape(test_images))"
      ],
      "execution_count": 0,
      "outputs": [
        {
          "output_type": "stream",
          "text": [
            "(55000, 28, 28)\n",
            "(5000, 28, 28)\n",
            "(10000, 28, 28)\n"
          ],
          "name": "stdout"
        }
      ]
    },
    {
      "cell_type": "code",
      "metadata": {
        "id": "5VCR0iYxr9FS",
        "colab_type": "code",
        "outputId": "da328995-46c3-456b-db1f-9ed6e5db1c8a",
        "colab": {
          "base_uri": "https://localhost:8080/",
          "height": 68
        }
      },
      "source": [
        "print(\"Validation data after reshaping:{}\".format(np.shape(valid_images)))\n",
        "print(\"Train data after reshaping:{}\".format(np.shape(X_train)))\n",
        "print(\"Test data after reshaping :{}\".format(np.shape(X_test)))"
      ],
      "execution_count": 0,
      "outputs": [
        {
          "output_type": "stream",
          "text": [
            "Validation data after reshaping:(5000, 28, 28)\n",
            "Train data after reshaping:(60000, 28, 28)\n",
            "Test data after reshaping :(10000, 28, 28)\n"
          ],
          "name": "stdout"
        }
      ]
    },
    {
      "cell_type": "code",
      "metadata": {
        "id": "44KLn7k4sOYH",
        "colab_type": "code",
        "colab": {}
      },
      "source": [
        "class LocalBinaryPatterns:\n",
        "\tdef __init__(self, numPoints, radius):\n",
        "\t\t# store the number of points and radius\n",
        "\t\tself.numPoints = numPoints\n",
        "\t\tself.radius = radius\n",
        " \n",
        "\tdef LBPfeatures(self, image, eps=1e-7):\n",
        "\t\t# compute the Local Binary Pattern representation\n",
        "\t\t# of the image, and then use the LBP representation\n",
        "\t\t# to build the histogram of patterns\n",
        "\t\tlbp = feature.local_binary_pattern(image, self.numPoints,\n",
        "\t\t\tself.radius, method=\"uniform\")\n",
        "    # Form the histogram\n",
        "\t\t(hist, _) = np.histogram(lbp.ravel(),\n",
        "\t\t\tbins=np.arange(0, self.numPoints + 3),\n",
        "\t\t\trange=(0, self.numPoints + 2))\n",
        " \n",
        "\t\t# normalize the histogram\n",
        "\t\thist = hist.astype(\"float\")\n",
        "\t\thist /= (hist.sum() + eps)\n",
        " \n",
        "\t\t# return the histogram of Local Binary Patterns\n",
        "\t\treturn hist"
      ],
      "execution_count": 0,
      "outputs": []
    },
    {
      "cell_type": "code",
      "metadata": {
        "id": "lzsNOtZksSVC",
        "colab_type": "code",
        "outputId": "b0f6bc47-6e1a-4b76-ed0c-8bbe755f91a3",
        "colab": {
          "base_uri": "https://localhost:8080/",
          "height": 51
        }
      },
      "source": [
        "desc = LocalBinaryPatterns(24, 8)\n",
        "data_train = []\n",
        "labels_train = []\n",
        "\n",
        "for img_index in range(len(X_train)):\n",
        "\t\n",
        "\timage = (X_train[img_index])\n",
        "\thist = desc.LBPfeatures(image)\n",
        " \n",
        "\tlabels_train.append(y_train[img_index])\n",
        "\tdata_train.append(hist)\n",
        " \n",
        "print(np.shape(data_train))\n",
        "print(np.shape(labels_train))"
      ],
      "execution_count": 0,
      "outputs": [
        {
          "output_type": "stream",
          "text": [
            "(60000, 26)\n",
            "(60000,)\n"
          ],
          "name": "stdout"
        }
      ]
    },
    {
      "cell_type": "code",
      "metadata": {
        "id": "GzVG4zCutPC5",
        "colab_type": "code",
        "outputId": "a6b40d9f-a3de-49b7-ea31-be288c42aefe",
        "colab": {
          "base_uri": "https://localhost:8080/",
          "height": 51
        }
      },
      "source": [
        "data_test=[]\n",
        "labels_test=[]\n",
        "\n",
        "for im_index in range(len(X_test)):\n",
        "  \n",
        "  imag = (X_test[im_index])\n",
        "  histo = desc.LBPfeatures(imag)\n",
        "\n",
        "  labels_test.append(y_test[im_index])\n",
        "  data_test.append(histo)\n",
        " \n",
        "print(np.shape(data_test))\n",
        "print(np.shape(labels_test))"
      ],
      "execution_count": 0,
      "outputs": [
        {
          "output_type": "stream",
          "text": [
            "(10000, 26)\n",
            "(10000,)\n"
          ],
          "name": "stdout"
        }
      ]
    },
    {
      "cell_type": "code",
      "metadata": {
        "id": "F8REfsB9uxhh",
        "colab_type": "code",
        "colab": {}
      },
      "source": [
        "data_train = np.asarray(data_train)\n",
        "labels_train = np.asarray(labels_train)\n",
        "data_test= np.asarray(data_test)\n",
        "labels_test = np.asarray(labels_test)"
      ],
      "execution_count": 0,
      "outputs": []
    },
    {
      "cell_type": "code",
      "metadata": {
        "id": "tLMjKPGnsS4K",
        "colab_type": "code",
        "outputId": "99a74431-aee6-4607-fb83-df629637e658",
        "colab": {
          "base_uri": "https://localhost:8080/",
          "height": 1000
        }
      },
      "source": [
        "model = tf.keras.models.Sequential([tf.keras.layers.Dense(1024, activation=tf.nn.relu, input_dim=26),\n",
        "                                    tf.keras.layers.Dense(512, activation=tf.nn.relu), \n",
        "                                    tf.keras.layers.Dense(256, activation=tf.nn.relu), \n",
        "                                    tf.keras.layers.Dense(10, activation=tf.nn.softmax)])\n",
        "\n",
        "model.compile(optimizer = tf.optimizers.Adam(),\n",
        "              loss = 'sparse_categorical_crossentropy',\n",
        "              metrics=['accuracy'])\n",
        "\n",
        "Hist=model.fit(data_train, labels_train, epochs=15, batch_size=50, validation_split=0.1)\n",
        "\n",
        "model.summary()\n",
        "\n",
        "pd.DataFrame(Hist.history).plot(figsize=(8, 5))\n",
        "plt.grid(True)\n",
        "plt.gca().set_ylim(0, 1) \n",
        "plt.show()\n",
        "\n",
        "plt.plot(Hist.history['loss'])\n",
        "plt.ylabel('cost')\n",
        "plt.xlabel('Epochs')\n",
        "plt.title(\"Cost/Loss Curve\")\n",
        "plt.show()\n",
        "\n",
        "##print('\\n# Evaluate on test data')\n",
        "##results = model.evaluate(data_test,labels_test)\n",
        "##print('test loss, test acc:', results)"
      ],
      "execution_count": 0,
      "outputs": [
        {
          "output_type": "stream",
          "text": [
            "Epoch 1/15\n",
            "1080/1080 [==============================] - 15s 14ms/step - loss: 1.7699 - accuracy: 0.3446 - val_loss: 1.5541 - val_accuracy: 0.4458\n",
            "Epoch 2/15\n",
            "1080/1080 [==============================] - 14s 13ms/step - loss: 1.5085 - accuracy: 0.4534 - val_loss: 1.4286 - val_accuracy: 0.4928\n",
            "Epoch 3/15\n",
            "1080/1080 [==============================] - 14s 13ms/step - loss: 1.4566 - accuracy: 0.4722 - val_loss: 1.3797 - val_accuracy: 0.5048\n",
            "Epoch 4/15\n",
            "1080/1080 [==============================] - 15s 14ms/step - loss: 1.4262 - accuracy: 0.4840 - val_loss: 1.3651 - val_accuracy: 0.5142\n",
            "Epoch 5/15\n",
            "1080/1080 [==============================] - 15s 14ms/step - loss: 1.4103 - accuracy: 0.4898 - val_loss: 1.3467 - val_accuracy: 0.5225\n",
            "Epoch 6/15\n",
            "1080/1080 [==============================] - 15s 14ms/step - loss: 1.3978 - accuracy: 0.4942 - val_loss: 1.3501 - val_accuracy: 0.5133\n",
            "Epoch 7/15\n",
            "1080/1080 [==============================] - 15s 14ms/step - loss: 1.3819 - accuracy: 0.5019 - val_loss: 1.3446 - val_accuracy: 0.5237\n",
            "Epoch 8/15\n",
            "1080/1080 [==============================] - 15s 14ms/step - loss: 1.3628 - accuracy: 0.5108 - val_loss: 1.3279 - val_accuracy: 0.5322\n",
            "Epoch 9/15\n",
            "1080/1080 [==============================] - 15s 14ms/step - loss: 1.3482 - accuracy: 0.5164 - val_loss: 1.2674 - val_accuracy: 0.5492\n",
            "Epoch 10/15\n",
            "1080/1080 [==============================] - 14s 13ms/step - loss: 1.3309 - accuracy: 0.5214 - val_loss: 1.2512 - val_accuracy: 0.5583\n",
            "Epoch 11/15\n",
            "1080/1080 [==============================] - 14s 13ms/step - loss: 1.3195 - accuracy: 0.5259 - val_loss: 1.2694 - val_accuracy: 0.5467\n",
            "Epoch 12/15\n",
            "1080/1080 [==============================] - 14s 13ms/step - loss: 1.3073 - accuracy: 0.5316 - val_loss: 1.2495 - val_accuracy: 0.5632\n",
            "Epoch 13/15\n",
            "1080/1080 [==============================] - 15s 14ms/step - loss: 1.2997 - accuracy: 0.5337 - val_loss: 1.2603 - val_accuracy: 0.5527\n",
            "Epoch 14/15\n",
            "1080/1080 [==============================] - 15s 14ms/step - loss: 1.2924 - accuracy: 0.5347 - val_loss: 1.2439 - val_accuracy: 0.5600\n",
            "Epoch 15/15\n",
            "1080/1080 [==============================] - 14s 13ms/step - loss: 1.2859 - accuracy: 0.5388 - val_loss: 1.2786 - val_accuracy: 0.5395\n",
            "Model: \"sequential\"\n",
            "_________________________________________________________________\n",
            "Layer (type)                 Output Shape              Param #   \n",
            "=================================================================\n",
            "dense (Dense)                (None, 1024)              27648     \n",
            "_________________________________________________________________\n",
            "dense_1 (Dense)              (None, 512)               524800    \n",
            "_________________________________________________________________\n",
            "dense_2 (Dense)              (None, 256)               131328    \n",
            "_________________________________________________________________\n",
            "dense_3 (Dense)              (None, 10)                2570      \n",
            "=================================================================\n",
            "Total params: 686,346\n",
            "Trainable params: 686,346\n",
            "Non-trainable params: 0\n",
            "_________________________________________________________________\n"
          ],
          "name": "stdout"
        },
        {
          "output_type": "display_data",
          "data": {
            "image/png": "[encoded data removed]",
            "text/plain": [
              "<Figure size 576x360 with 1 Axes>"
            ]
          },
          "metadata": {
            "tags": []
          }
        },
        {
          "output_type": "display_data",
          "data": {
            "image/png": "[encoded data removed]",
            "text/plain": [
              "<Figure size 432x288 with 1 Axes>"
            ]
          },
          "metadata": {
            "tags": []
          }
        }
      ]
    },
    {
      "cell_type": "code",
      "metadata": {
        "id": "emR5CkAHH2Xp",
        "colab_type": "code",
        "outputId": "4ac00abb-082a-4b6f-cb1f-1780caae240d",
        "colab": {
          "base_uri": "https://localhost:8080/",
          "height": 85
        }
      },
      "source": [
        "print('\\n# Evaluate on test data')\n",
        "results = model.evaluate(data_test,labels_test)\n",
        "print('test loss, test acc:', results)"
      ],
      "execution_count": 0,
      "outputs": [
        {
          "output_type": "stream",
          "text": [
            "\n",
            "# Evaluate on test data\n",
            "313/313 [==============================] - 1s 3ms/step - loss: 1.3113 - accuracy: 0.5284\n",
            "test loss, test acc: [1.3113378286361694, 0.5284000039100647]\n"
          ],
          "name": "stdout"
        }
      ]
    },
    {
      "cell_type": "code",
      "metadata": {
        "id": "0ofSETltLJBs",
        "colab_type": "code",
        "outputId": "cb3453f2-ed99-4f6d-eda6-3d00ab768bc1",
        "colab": {
          "base_uri": "https://localhost:8080/",
          "height": 1000
        }
      },
      "source": [
        "model1 = tf.keras.models.Sequential([tf.keras.layers.Dense(1024, activation=tf.nn.relu, input_dim=26),\n",
        "                                    tf.keras.layers.Dense(512, activation=tf.nn.relu), \n",
        "                                    tf.keras.layers.Dense(256, activation=tf.nn.relu), \n",
        "                                    tf.keras.layers.Dense(10, activation=tf.nn.softmax)])\n",
        "\n",
        "model1.compile(optimizer = tf.optimizers.SGD(0.01),\n",
        "              loss = 'sparse_categorical_crossentropy',\n",
        "              metrics=['accuracy'])\n",
        "\n",
        "Hist=model1.fit(data_train, labels_train, epochs=15, batch_size=50, validation_split=0.1)\n",
        "\n",
        "model.summary()\n",
        "\n",
        "pd.DataFrame(Hist.history).plot(figsize=(8, 5))\n",
        "plt.grid(True)\n",
        "plt.gca().set_ylim(0, 1) \n",
        "plt.show()\n",
        "\n",
        "plt.plot(Hist.history['loss'])\n",
        "plt.ylabel('cost')\n",
        "plt.xlabel('Epochs')\n",
        "plt.title(\"Cost/Loss Curve\")\n",
        "plt.show()\n",
        "\n",
        "##print('\\n# Evaluate on test data')\n",
        "##results = model.evaluate(data_test,labels_test)\n",
        "##print('test loss, test acc:', results)"
      ],
      "execution_count": 0,
      "outputs": [
        {
          "output_type": "stream",
          "text": [
            "Epoch 1/15\n",
            "1080/1080 [==============================] - 13s 12ms/step - loss: 2.2965 - accuracy: 0.1126 - val_loss: 2.2935 - val_accuracy: 0.1070\n",
            "Epoch 2/15\n",
            "1080/1080 [==============================] - 13s 12ms/step - loss: 2.2867 - accuracy: 0.1297 - val_loss: 2.2805 - val_accuracy: 0.1365\n",
            "Epoch 3/15\n",
            "1080/1080 [==============================] - 14s 13ms/step - loss: 2.2646 - accuracy: 0.1726 - val_loss: 2.2458 - val_accuracy: 0.1828\n",
            "Epoch 4/15\n",
            "1080/1080 [==============================] - 15s 14ms/step - loss: 2.1985 - accuracy: 0.2034 - val_loss: 2.1400 - val_accuracy: 0.2133\n",
            "Epoch 5/15\n",
            "1080/1080 [==============================] - 15s 14ms/step - loss: 2.0623 - accuracy: 0.2345 - val_loss: 1.9958 - val_accuracy: 0.2505\n",
            "Epoch 6/15\n",
            "1080/1080 [==============================] - 14s 13ms/step - loss: 1.9622 - accuracy: 0.2674 - val_loss: 1.9287 - val_accuracy: 0.2728\n",
            "Epoch 7/15\n",
            "1080/1080 [==============================] - 15s 14ms/step - loss: 1.9240 - accuracy: 0.2797 - val_loss: 1.9004 - val_accuracy: 0.2943\n",
            "Epoch 8/15\n",
            "1080/1080 [==============================] - 14s 13ms/step - loss: 1.9054 - accuracy: 0.2870 - val_loss: 1.8909 - val_accuracy: 0.2925\n",
            "Epoch 9/15\n",
            "1080/1080 [==============================] - 14s 13ms/step - loss: 1.8942 - accuracy: 0.2919 - val_loss: 1.8867 - val_accuracy: 0.2938\n",
            "Epoch 10/15\n",
            "1080/1080 [==============================] - 14s 13ms/step - loss: 1.8847 - accuracy: 0.2960 - val_loss: 1.8823 - val_accuracy: 0.3092\n",
            "Epoch 11/15\n",
            "1080/1080 [==============================] - 15s 14ms/step - loss: 1.8776 - accuracy: 0.2964 - val_loss: 1.8588 - val_accuracy: 0.3118\n",
            "Epoch 12/15\n",
            "1080/1080 [==============================] - 14s 13ms/step - loss: 1.8714 - accuracy: 0.3012 - val_loss: 1.8533 - val_accuracy: 0.3037\n",
            "Epoch 13/15\n",
            "1080/1080 [==============================] - 13s 12ms/step - loss: 1.8661 - accuracy: 0.3028 - val_loss: 1.8490 - val_accuracy: 0.3125\n",
            "Epoch 14/15\n",
            "1080/1080 [==============================] - 14s 13ms/step - loss: 1.8623 - accuracy: 0.3050 - val_loss: 1.8474 - val_accuracy: 0.3073\n",
            "Epoch 15/15\n",
            "1080/1080 [==============================] - 14s 13ms/step - loss: 1.8597 - accuracy: 0.3077 - val_loss: 1.8488 - val_accuracy: 0.3155\n",
            "Model: \"sequential\"\n",
            "_________________________________________________________________\n",
            "Layer (type)                 Output Shape              Param #   \n",
            "=================================================================\n",
            "dense (Dense)                (None, 1024)              27648     \n",
            "_________________________________________________________________\n",
            "dense_1 (Dense)              (None, 512)               524800    \n",
            "_________________________________________________________________\n",
            "dense_2 (Dense)              (None, 256)               131328    \n",
            "_________________________________________________________________\n",
            "dense_3 (Dense)              (None, 10)                2570      \n",
            "=================================================================\n",
            "Total params: 686,346\n",
            "Trainable params: 686,346\n",
            "Non-trainable params: 0\n",
            "_________________________________________________________________\n"
          ],
          "name": "stdout"
        },
        {
          "output_type": "display_data",
          "data": {
            "image/png": "[encoded data removed]",
            "text/plain": [
              "<Figure size 576x360 with 1 Axes>"
            ]
          },
          "metadata": {
            "tags": []
          }
        },
        {
          "output_type": "display_data",
          "data": {
            "image/png": "[encoded data removed]",
            "text/plain": [
              "<Figure size 432x288 with 1 Axes>"
            ]
          },
          "metadata": {
            "tags": []
          }
        }
      ]
    },
    {
      "cell_type": "code",
      "metadata": {
        "id": "9qeLZO-LLJZs",
        "colab_type": "code",
        "outputId": "643ddcfa-bd32-47a1-c3ee-02794fcc19dc",
        "colab": {
          "base_uri": "https://localhost:8080/",
          "height": 85
        }
      },
      "source": [
        "print('\\n# Evaluate on test data')\n",
        "results = model1.evaluate(data_test,labels_test)\n",
        "print('test loss, test acc:', results)"
      ],
      "execution_count": 0,
      "outputs": [
        {
          "output_type": "stream",
          "text": [
            "\n",
            "# Evaluate on test data\n",
            "313/313 [==============================] - 1s 3ms/step - loss: 1.8399 - accuracy: 0.3180\n",
            "test loss, test acc: [1.8398948907852173, 0.3179999887943268]\n"
          ],
          "name": "stdout"
        }
      ]
    }
  ]
}
