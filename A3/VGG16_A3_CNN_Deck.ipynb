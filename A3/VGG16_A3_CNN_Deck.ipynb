{
  "nbformat": 4,
  "nbformat_minor": 0,
  "metadata": {
    "colab": {
      "name": "VGG16_A3_CNN_Deck.ipynb",
      "provenance": [],
      "collapsed_sections": [],
      "machine_shape": "hm"
    },
    "kernelspec": {
      "name": "python3",
      "display_name": "Python 3"
    },
    "accelerator": "GPU"
  },
  "cells": [
    {
      "cell_type": "markdown",
      "metadata": {
        "id": "iPObk8Nqkqi1",
        "colab_type": "text"
      },
      "source": [
        "#Assigment 3: Identifying cracks and damages in structures (Concrete structures)\n",
        "<br>42028 Deep Learning and Convolutional Neural Network - Autumn 2020\n",
        "\n",
        "<br>Carlos Mario Carvajal Moreno. Student ID: 13144148\n",
        "<br>Andres Felipe Lagos. Student ID: 13092248\n",
        "<br>Ernest Ilustre.  Student ID: 12763239"
      ]
    },
    {
      "cell_type": "code",
      "metadata": {
        "id": "ryFDRXLskgyl",
        "colab_type": "code",
        "outputId": "63f71fa5-7b87-4a1c-d46a-facd352e06ca",
        "colab": {
          "base_uri": "https://localhost:8080/",
          "height": 34
        }
      },
      "source": [
        "#Connecting to Google drive\n",
        "\n",
        "from google.colab import drive\n",
        "drive.mount('/content/gdrive')"
      ],
      "execution_count": 1,
      "outputs": [
        {
          "output_type": "stream",
          "text": [
            "Drive already mounted at /content/gdrive; to attempt to forcibly remount, call drive.mount(\"/content/gdrive\", force_remount=True).\n"
          ],
          "name": "stdout"
        }
      ]
    },
    {
      "cell_type": "code",
      "metadata": {
        "id": "fwxzamBICIoh",
        "colab_type": "code",
        "colab": {}
      },
      "source": [
        "#Importing the necessary libraries\n",
        "\n",
        "import numpy as np\n",
        "import matplotlib.pyplot as plt\n",
        "import os\n",
        "import zipfile\n",
        "import tensorflow as tf\n",
        "from tensorflow.keras.preprocessing.image import ImageDataGenerator\n",
        "from tensorflow.keras import layers\n",
        "from tensorflow.keras import Model\n",
        "from sklearn.preprocessing import LabelBinarizer\n",
        "from keras.callbacks import ModelCheckpoint\n",
        "from keras import models\n",
        "from keras import layers\n",
        "from keras import optimizers\n",
        "from keras.preprocessing import image\n",
        "from keras.applications.vgg16 import VGG16\n",
        "from keras.models import model_from_json"
      ],
      "execution_count": 0,
      "outputs": []
    },
    {
      "cell_type": "code",
      "metadata": {
        "id": "rmbVcNKzlLKE",
        "colab_type": "code",
        "outputId": "5b953286-449d-4159-8897-27336ed8b131",
        "colab": {
          "base_uri": "https://localhost:8080/",
          "height": 34
        }
      },
      "source": [
        "cd /content/gdrive/My Drive/A3 "
      ],
      "execution_count": 3,
      "outputs": [
        {
          "output_type": "stream",
          "text": [
            "/content/gdrive/My Drive/A3\n"
          ],
          "name": "stdout"
        }
      ]
    },
    {
      "cell_type": "code",
      "metadata": {
        "id": "yDWszfGHl05p",
        "colab_type": "code",
        "outputId": "11bc8727-29dd-4e58-94ae-64e3b9382866",
        "colab": {
          "base_uri": "https://localhost:8080/",
          "height": 85
        }
      },
      "source": [
        "ls"
      ],
      "execution_count": 4,
      "outputs": [
        {
          "output_type": "stream",
          "text": [
            "A3_CNN_Multiclass.ipynb  VGG16_A3_CNN_Pavement.ipynb  VGG19_A3_CNN_Wall.ipynb\n",
            "Concrete_Data_Final.zip  VGG16_A3_CNN_Wall.ipynb      wall_model.json\n",
            "deck_model.json          VGG19_A3_CNN_Deck.ipynb      \u001b[0m\u001b[01;34mWeights\u001b[0m/\n",
            "VGG16_A3_CNN_Deck.ipynb  VGG19_A3_CNN_Pavement.ipynb\n"
          ],
          "name": "stdout"
        }
      ]
    },
    {
      "cell_type": "code",
      "metadata": {
        "id": "cMkFw7Ei2elP",
        "colab_type": "code",
        "colab": {}
      },
      "source": [
        "#Extraction of data and placing it in the temporary folder. The models work a lot better\n",
        "local_zip = '/content/gdrive/My Drive/A3/Concrete_Data_Final.zip'\n",
        "zip_ref = zipfile.ZipFile(local_zip, 'r')\n",
        "zip_ref.extractall('/tmp')\n",
        "zip_ref.close()"
      ],
      "execution_count": 0,
      "outputs": []
    },
    {
      "cell_type": "code",
      "metadata": {
        "id": "XqoVE1ca3JVZ",
        "colab_type": "code",
        "colab": {}
      },
      "source": [
        "#Setting the path directory for training and validation sets\n",
        "base_dir = '/tmp/Concrete_Data_Final'\n",
        "train_dir = os.path.join(base_dir, 'Train/Deck')\n",
        "validation_dir = os.path.join(base_dir, 'Val/Deck')\n",
        "test_dir = os.path.join(base_dir, 'Test/Deck')\n",
        "\n",
        "#Train\n",
        "# Directory with training Deck Cracked Pictures\n",
        "train_cracked_dir = os.path.join(train_dir, 'Cracked')\n",
        "# Directory with training Deck Uncracked Pictures\n",
        "train_Uncracked_dir = os.path.join(train_dir, 'Uncracked')\n",
        "\n",
        "\n",
        "#Val\n",
        "# Directory with validation Deck Cracked pictures\n",
        "val_cracked_dir = os.path.join(validation_dir, 'Cracked')\n",
        "# Directory with validation Deck Uncracked pictures\n",
        "val_Uncracked_dir = os.path.join(validation_dir, 'Uncracked')\n",
        "\n",
        "\n",
        "#Test\n",
        "# Directory with validation Deck Cracked pictures\n",
        "test_cracked_dir = os.path.join(test_dir, 'Cracked')\n",
        "# Directory with validation Deck Uncracked pictures\n",
        "test_Uncracked_dir = os.path.join(test_dir, 'Uncracked')"
      ],
      "execution_count": 0,
      "outputs": []
    },
    {
      "cell_type": "code",
      "metadata": {
        "id": "CfeYAJxPzBpM",
        "colab_type": "code",
        "outputId": "fae79f65-c071-4ac1-a1ad-e9a2de1c2d64",
        "colab": {
          "base_uri": "https://localhost:8080/",
          "height": 68
        }
      },
      "source": [
        "# All images are rescaled by 1./255\n",
        "train_datagen = ImageDataGenerator(rescale=1./255,\n",
        "                                   rotation_range=10,\n",
        "                                   width_shift_range=0.1,\n",
        "                                   height_shift_range=0.1,\n",
        "                                   shear_range=0.1,\n",
        "                                   zoom_range=0.1,\n",
        "                                   horizontal_flip=True,\n",
        "                                   brightness_range = (0.9,1.1),\n",
        "                                   fill_mode='nearest'\n",
        "                                   )\n",
        "val_datagen = ImageDataGenerator(rescale=1./255)\n",
        "test_datagen = ImageDataGenerator(rescale=1./255)\n",
        "batch_size = 16\n",
        "image_size = 256\n",
        "\n",
        "# Flow training images in batches of 16 using train_datagen generator\n",
        "train_generator = train_datagen.flow_from_directory(\n",
        "        train_dir,\n",
        "        target_size=(image_size, image_size),  # Images are size 100X100\n",
        "        batch_size= batch_size,\n",
        "        class_mode='binary')\n",
        "\n",
        "# Flow validation images in batches of 16 using test_datagen generator\n",
        "validation_generator = val_datagen.flow_from_directory(\n",
        "        validation_dir,\n",
        "        target_size=(image_size, image_size),\n",
        "        batch_size= batch_size,\n",
        "        class_mode='binary')\n",
        "\n",
        "# Flow validation images in batches of 16 using test_datagen generator\n",
        "test_generator = test_datagen.flow_from_directory(\n",
        "        test_dir,\n",
        "        target_size=(image_size, image_size),\n",
        "        batch_size= batch_size,\n",
        "        class_mode='binary')"
      ],
      "execution_count": 7,
      "outputs": [
        {
          "output_type": "stream",
          "text": [
            "Found 3547 images belonging to 2 classes.\n",
            "Found 831 images belonging to 2 classes.\n",
            "Found 9242 images belonging to 2 classes.\n"
          ],
          "name": "stdout"
        }
      ]
    },
    {
      "cell_type": "code",
      "metadata": {
        "id": "NrixMjjGnliR",
        "colab_type": "code",
        "outputId": "ba02a125-f2dc-4e19-ba22-8a5980822f65",
        "colab": {
          "base_uri": "https://localhost:8080/",
          "height": 34
        }
      },
      "source": [
        "class_dict = train_generator.class_indices\n",
        "class_dict"
      ],
      "execution_count": 8,
      "outputs": [
        {
          "output_type": "execute_result",
          "data": {
            "text/plain": [
              "{'Cracked': 0, 'Uncracked': 1}"
            ]
          },
          "metadata": {
            "tags": []
          },
          "execution_count": 8
        }
      ]
    },
    {
      "cell_type": "code",
      "metadata": {
        "id": "vqo1yRyoG1YI",
        "colab_type": "code",
        "colab": {}
      },
      "source": [
        "#Downloading the inception ResNet V2 model with imagenet weights\n",
        "conv_base = VGG16(include_top=False, weights='imagenet', input_shape=(256,256,3))"
      ],
      "execution_count": 0,
      "outputs": []
    },
    {
      "cell_type": "code",
      "metadata": {
        "id": "R2CdMyZD29fw",
        "colab_type": "code",
        "colab": {}
      },
      "source": [
        "model = models.Sequential()\n",
        "model.add(conv_base)\n",
        "\n",
        "model.add(layers.Flatten())\n",
        "\n",
        "model.add(layers.Dense(512, activation='relu'))\n",
        "model.add(layers.Dropout(0.2))\n",
        "model.add(layers.BatchNormalization())\n",
        "\n",
        "model.add(layers.Dense(256, activation='relu'))\n",
        "#model.add(layers.Dropout(0.2))\n",
        "model.add(layers.BatchNormalization())\n",
        "\n",
        "model.add(layers.Dense(1, activation='sigmoid'))"
      ],
      "execution_count": 0,
      "outputs": []
    },
    {
      "cell_type": "code",
      "metadata": {
        "id": "4sG25Jtuqc4Y",
        "colab_type": "code",
        "outputId": "d8880501-6aca-4b68-96e1-503a0a97db8f",
        "colab": {
          "base_uri": "https://localhost:8080/",
          "height": 1000
        }
      },
      "source": [
        "conv_base.summary()\n",
        "for layer in conv_base.layers[:-4]:\n",
        "    layer.trainable = False\n",
        " \n",
        "# Check the trainable status of the individual layers\n",
        "for layer in conv_base.layers:\n",
        "    print(layer, layer.trainable)\n",
        "\n",
        "\n",
        "model.summary()"
      ],
      "execution_count": 32,
      "outputs": [
        {
          "output_type": "stream",
          "text": [
            "Model: \"vgg16\"\n",
            "_________________________________________________________________\n",
            "Layer (type)                 Output Shape              Param #   \n",
            "=================================================================\n",
            "input_1 (InputLayer)         (None, 256, 256, 3)       0         \n",
            "_________________________________________________________________\n",
            "block1_conv1 (Conv2D)        (None, 256, 256, 64)      1792      \n",
            "_________________________________________________________________\n",
            "block1_conv2 (Conv2D)        (None, 256, 256, 64)      36928     \n",
            "_________________________________________________________________\n",
            "block1_pool (MaxPooling2D)   (None, 128, 128, 64)      0         \n",
            "_________________________________________________________________\n",
            "block2_conv1 (Conv2D)        (None, 128, 128, 128)     73856     \n",
            "_________________________________________________________________\n",
            "block2_conv2 (Conv2D)        (None, 128, 128, 128)     147584    \n",
            "_________________________________________________________________\n",
            "block2_pool (MaxPooling2D)   (None, 64, 64, 128)       0         \n",
            "_________________________________________________________________\n",
            "block3_conv1 (Conv2D)        (None, 64, 64, 256)       295168    \n",
            "_________________________________________________________________\n",
            "block3_conv2 (Conv2D)        (None, 64, 64, 256)       590080    \n",
            "_________________________________________________________________\n",
            "block3_conv3 (Conv2D)        (None, 64, 64, 256)       590080    \n",
            "_________________________________________________________________\n",
            "block3_pool (MaxPooling2D)   (None, 32, 32, 256)       0         \n",
            "_________________________________________________________________\n",
            "block4_conv1 (Conv2D)        (None, 32, 32, 512)       1180160   \n",
            "_________________________________________________________________\n",
            "block4_conv2 (Conv2D)        (None, 32, 32, 512)       2359808   \n",
            "_________________________________________________________________\n",
            "block4_conv3 (Conv2D)        (None, 32, 32, 512)       2359808   \n",
            "_________________________________________________________________\n",
            "block4_pool (MaxPooling2D)   (None, 16, 16, 512)       0         \n",
            "_________________________________________________________________\n",
            "block5_conv1 (Conv2D)        (None, 16, 16, 512)       2359808   \n",
            "_________________________________________________________________\n",
            "block5_conv2 (Conv2D)        (None, 16, 16, 512)       2359808   \n",
            "_________________________________________________________________\n",
            "block5_conv3 (Conv2D)        (None, 16, 16, 512)       2359808   \n",
            "_________________________________________________________________\n",
            "block5_pool (MaxPooling2D)   (None, 8, 8, 512)         0         \n",
            "=================================================================\n",
            "Total params: 14,714,688\n",
            "Trainable params: 7,079,424\n",
            "Non-trainable params: 7,635,264\n",
            "_________________________________________________________________\n",
            "<keras.engine.input_layer.InputLayer object at 0x7f1d9fe2e630> False\n",
            "<keras.layers.convolutional.Conv2D object at 0x7f1d98edfe80> False\n",
            "<keras.layers.convolutional.Conv2D object at 0x7f1d98edf358> False\n",
            "<keras.layers.pooling.MaxPooling2D object at 0x7f1d98edf7f0> False\n",
            "<keras.layers.convolutional.Conv2D object at 0x7f1d98edf5f8> False\n",
            "<keras.layers.convolutional.Conv2D object at 0x7f1d93b13908> False\n",
            "<keras.layers.pooling.MaxPooling2D object at 0x7f1d92dc37b8> False\n",
            "<keras.layers.convolutional.Conv2D object at 0x7f1d92dc35f8> False\n",
            "<keras.layers.convolutional.Conv2D object at 0x7f1d92dca358> False\n",
            "<keras.layers.convolutional.Conv2D object at 0x7f1d92dcaef0> False\n",
            "<keras.layers.pooling.MaxPooling2D object at 0x7f1d92dce9b0> False\n",
            "<keras.layers.convolutional.Conv2D object at 0x7f1d92dce7b8> False\n",
            "<keras.layers.convolutional.Conv2D object at 0x7f1d92dd5518> False\n",
            "<keras.layers.convolutional.Conv2D object at 0x7f1d92dd5e10> False\n",
            "<keras.layers.pooling.MaxPooling2D object at 0x7f1d92ddbba8> False\n",
            "<keras.layers.convolutional.Conv2D object at 0x7f1d92ddb9b0> True\n",
            "<keras.layers.convolutional.Conv2D object at 0x7f1d92de4710> True\n",
            "<keras.layers.convolutional.Conv2D object at 0x7f1d92deb320> True\n",
            "<keras.layers.pooling.MaxPooling2D object at 0x7f1d92debda0> True\n",
            "Model: \"sequential_4\"\n",
            "_________________________________________________________________\n",
            "Layer (type)                 Output Shape              Param #   \n",
            "=================================================================\n",
            "vgg16 (Model)                (None, 8, 8, 512)         14714688  \n",
            "_________________________________________________________________\n",
            "flatten_4 (Flatten)          (None, 32768)             0         \n",
            "_________________________________________________________________\n",
            "dense_10 (Dense)             (None, 512)               16777728  \n",
            "_________________________________________________________________\n",
            "dropout_5 (Dropout)          (None, 512)               0         \n",
            "_________________________________________________________________\n",
            "batch_normalization_7 (Batch (None, 512)               2048      \n",
            "_________________________________________________________________\n",
            "dense_11 (Dense)             (None, 256)               131328    \n",
            "_________________________________________________________________\n",
            "batch_normalization_8 (Batch (None, 256)               1024      \n",
            "_________________________________________________________________\n",
            "dense_12 (Dense)             (None, 1)                 257       \n",
            "=================================================================\n",
            "Total params: 31,627,073\n",
            "Trainable params: 23,990,273\n",
            "Non-trainable params: 7,636,800\n",
            "_________________________________________________________________\n"
          ],
          "name": "stdout"
        }
      ]
    },
    {
      "cell_type": "code",
      "metadata": {
        "id": "eECGJVdI6M9j",
        "colab_type": "code",
        "colab": {}
      },
      "source": [
        "#compiling the model\n",
        "model.compile(optimizer= optimizers.Adam(learning_rate=0.001),\n",
        "              loss= 'binary_crossentropy',\n",
        "              metrics=['accuracy'])"
      ],
      "execution_count": 0,
      "outputs": []
    },
    {
      "cell_type": "code",
      "metadata": {
        "id": "dKK4lnehDQ_J",
        "colab_type": "code",
        "colab": {}
      },
      "source": [
        "#checkpoint = ModelCheckpoint('weights.{epoch:02d}-{val_loss:.2f}.hdf5', monitor='val_loss', save_best_only=True, verbose=1, period=3)\n",
        "filepath='/content/gdrive/My Drive/A3/Weights/Deck_weights.{epoch:02d}-{val_loss:.2f}.hdf5'\n",
        "checkpoint= ModelCheckpoint(filepath, monitor='val_loss', verbose=0, save_best_only=True, save_weights_only=False, mode='auto', period=1)\n",
        "json_string  = model.to_json()\n",
        "f = open(\"deck_model.json\", 'w')\n",
        "f.write(json_string)\n",
        "f.close()"
      ],
      "execution_count": 0,
      "outputs": []
    },
    {
      "cell_type": "code",
      "metadata": {
        "id": "U-M6HHEjQvPA",
        "colab_type": "code",
        "outputId": "e7866546-f110-4834-bff9-642e0f91ab4c",
        "colab": {
          "base_uri": "https://localhost:8080/",
          "height": 697
        }
      },
      "source": [
        "# Train the model\n",
        "history = model.fit(\n",
        "      train_generator,\n",
        "      steps_per_epoch= train_generator.n//train_generator.batch_size,\n",
        "      epochs=20,\n",
        "      validation_data=validation_generator,\n",
        "      validation_steps= validation_generator.n//train_generator.batch_size,\n",
        "      callbacks = [checkpoint],\n",
        "      verbose=1,\n",
        "      )"
      ],
      "execution_count": 35,
      "outputs": [
        {
          "output_type": "stream",
          "text": [
            "Epoch 1/20\n",
            "221/221 [==============================] - 65s 296ms/step - loss: 0.4097 - accuracy: 0.8352 - val_loss: 0.4448 - val_accuracy: 0.7034\n",
            "Epoch 2/20\n",
            "221/221 [==============================] - 66s 298ms/step - loss: 0.3845 - accuracy: 0.8462 - val_loss: 0.3235 - val_accuracy: 0.7816\n",
            "Epoch 3/20\n",
            "221/221 [==============================] - 66s 297ms/step - loss: 0.3549 - accuracy: 0.8598 - val_loss: 0.5336 - val_accuracy: 0.7117\n",
            "Epoch 4/20\n",
            "221/221 [==============================] - 65s 292ms/step - loss: 0.3790 - accuracy: 0.8355 - val_loss: 0.9491 - val_accuracy: 0.7644\n",
            "Epoch 5/20\n",
            "221/221 [==============================] - 65s 292ms/step - loss: 0.4364 - accuracy: 0.8128 - val_loss: 0.7707 - val_accuracy: 0.6982\n",
            "Epoch 6/20\n",
            "221/221 [==============================] - 65s 292ms/step - loss: 0.4206 - accuracy: 0.8165 - val_loss: 0.7707 - val_accuracy: 0.7362\n",
            "Epoch 7/20\n",
            "221/221 [==============================] - 64s 289ms/step - loss: 0.3762 - accuracy: 0.8397 - val_loss: 0.5376 - val_accuracy: 0.7227\n",
            "Epoch 8/20\n",
            "221/221 [==============================] - 64s 288ms/step - loss: 0.3881 - accuracy: 0.8366 - val_loss: 0.5303 - val_accuracy: 0.7755\n",
            "Epoch 9/20\n",
            "221/221 [==============================] - 64s 288ms/step - loss: 0.3584 - accuracy: 0.8491 - val_loss: 0.2844 - val_accuracy: 0.7337\n",
            "Epoch 10/20\n",
            "221/221 [==============================] - 64s 290ms/step - loss: 0.3454 - accuracy: 0.8584 - val_loss: 0.4387 - val_accuracy: 0.7399\n",
            "Epoch 11/20\n",
            "221/221 [==============================] - 64s 288ms/step - loss: 0.3378 - accuracy: 0.8646 - val_loss: 0.3630 - val_accuracy: 0.7571\n",
            "Epoch 12/20\n",
            "221/221 [==============================] - 64s 288ms/step - loss: 0.3275 - accuracy: 0.8706 - val_loss: 0.2969 - val_accuracy: 0.7791\n",
            "Epoch 13/20\n",
            "221/221 [==============================] - 64s 288ms/step - loss: 0.3359 - accuracy: 0.8655 - val_loss: 0.3715 - val_accuracy: 0.7681\n",
            "Epoch 14/20\n",
            "221/221 [==============================] - 64s 288ms/step - loss: 0.3273 - accuracy: 0.8654 - val_loss: 0.6636 - val_accuracy: 0.8025\n",
            "Epoch 15/20\n",
            "221/221 [==============================] - 64s 287ms/step - loss: 0.3198 - accuracy: 0.8726 - val_loss: 0.4007 - val_accuracy: 0.7767\n",
            "Epoch 16/20\n",
            "221/221 [==============================] - 63s 287ms/step - loss: 0.3198 - accuracy: 0.8721 - val_loss: 0.2541 - val_accuracy: 0.7583\n",
            "Epoch 17/20\n",
            "221/221 [==============================] - 64s 289ms/step - loss: 0.3161 - accuracy: 0.8762 - val_loss: 0.6144 - val_accuracy: 0.7730\n",
            "Epoch 18/20\n",
            "221/221 [==============================] - 64s 288ms/step - loss: 0.3095 - accuracy: 0.8745 - val_loss: 0.2006 - val_accuracy: 0.8000\n",
            "Epoch 19/20\n",
            "221/221 [==============================] - 64s 289ms/step - loss: 0.2949 - accuracy: 0.8853 - val_loss: 0.6111 - val_accuracy: 0.7509\n",
            "Epoch 20/20\n",
            "221/221 [==============================] - 64s 288ms/step - loss: 0.2993 - accuracy: 0.8881 - val_loss: 0.3877 - val_accuracy: 0.7644\n"
          ],
          "name": "stdout"
        }
      ]
    },
    {
      "cell_type": "code",
      "metadata": {
        "id": "F3mkxzHP86jR",
        "colab_type": "code",
        "outputId": "8dfa54f8-615e-4e35-e05e-f236d6aff4be",
        "colab": {
          "base_uri": "https://localhost:8080/",
          "height": 545
        }
      },
      "source": [
        "acc = history.history['accuracy']\n",
        "val_acc = history.history['val_accuracy']\n",
        "loss = history.history['loss']\n",
        "val_loss = history.history['val_loss']\n",
        "\n",
        "epochs = range(len(acc))\n",
        "\n",
        "plt.plot(epochs, acc, 'bo', label='Training accuracy')\n",
        "plt.plot(epochs, val_acc, 'b', label='Validation accuracy')\n",
        "plt.title('Training and validation accuracy')\n",
        "\n",
        "plt.figure()\n",
        "\n",
        "plt.plot(epochs, loss, 'bo', label='Training Loss')\n",
        "plt.plot(epochs, val_loss, 'b', label='Validation Loss')\n",
        "plt.title('Training and validation loss')\n",
        "plt.legend()\n",
        "\n",
        "plt.show()"
      ],
      "execution_count": 36,
      "outputs": [
        {
          "output_type": "display_data",
          "data": {
            "image/png": "[encoded data removed]",
            "text/plain": [
              "<Figure size 432x288 with 1 Axes>"
            ]
          },
          "metadata": {
            "tags": [],
            "needs_background": "light"
          }
        },
        {
          "output_type": "display_data",
          "data": {
            "image/png": "[encoded data removed]",
            "text/plain": [
              "<Figure size 432x288 with 1 Axes>"
            ]
          },
          "metadata": {
            "tags": [],
            "needs_background": "light"
          }
        }
      ]
    },
    {
      "cell_type": "code",
      "metadata": {
        "id": "C1qYbwdyoD30",
        "colab_type": "code",
        "outputId": "da8baae2-5bc9-4932-bd3b-e3f284f5c720",
        "colab": {
          "base_uri": "https://localhost:8080/",
          "height": 51
        }
      },
      "source": [
        "test_loss, test_acc = model.evaluate(test_generator)\n",
        "test_acc"
      ],
      "execution_count": 37,
      "outputs": [
        {
          "output_type": "stream",
          "text": [
            "578/578 [==============================] - 30s 52ms/step\n"
          ],
          "name": "stdout"
        },
        {
          "output_type": "execute_result",
          "data": {
            "text/plain": [
              "0.936269223690033"
            ]
          },
          "metadata": {
            "tags": []
          },
          "execution_count": 37
        }
      ]
    },
    {
      "cell_type": "markdown",
      "metadata": {
        "id": "l2iYuF6OPfSr",
        "colab_type": "text"
      },
      "source": [
        "## Loading a saved model."
      ]
    },
    {
      "cell_type": "code",
      "metadata": {
        "id": "80wj9DH7sfgF",
        "colab_type": "code",
        "colab": {}
      },
      "source": [
        "## Go to the /tmp folder and copy the name of the last saved model\n",
        "#modelv2=tf.keras.models.load_model('/content/drive/My Drive/Weights/Pavement_weights.10-0.26.hdf5')"
      ],
      "execution_count": 0,
      "outputs": []
    },
    {
      "cell_type": "code",
      "metadata": {
        "id": "twa1ZyQ-s-e-",
        "colab_type": "code",
        "colab": {}
      },
      "source": [
        "#compiling the model\n",
        "#modelv2.compile(optimizer= tf.keras.optimizers.Adamax(learning_rate=0.001),\n",
        "              #loss= 'binary_crossentropy',\n",
        "              #               metrics=['accuracy'])"
      ],
      "execution_count": 0,
      "outputs": []
    },
    {
      "cell_type": "code",
      "metadata": {
        "id": "RmFijXsos7c8",
        "colab_type": "code",
        "colab": {}
      },
      "source": [
        "#checkpoint = ModelCheckpoint('weights.{epoch:02d}-{val_loss:.2f}.hdf5', monitor='val_loss', save_best_only=True, verbose=1, period=3)\n",
        "#epath='/content/drive/My Drive/Weights/Pavement_weights2.{epoch:02d}-{val_loss:.2f}.hdf5'\n",
        "#checkpoint= ModelCheckpoint(filepath, monitor='val_loss', verbose=0, save_best_only=True, save_weights_only=False, mode='auto', period=1)"
      ],
      "execution_count": 0,
      "outputs": []
    },
    {
      "cell_type": "code",
      "metadata": {
        "id": "YA7W8Iiftzi7",
        "colab_type": "code",
        "colab": {}
      },
      "source": [
        "# Train the model\n",
        "history = modelv2.fit(\n",
        "      train_generator,\n",
        "      steps_per_epoch= train_generator.n//train_generator.batch_size,\n",
        "      epochs=10,\n",
        "      validation_data=validation_generator,\n",
        "      validation_steps= validation_generator.n//train_generator.batch_size,\n",
        "      #callbacks = [checkpoint],\n",
        "      verbose=1,\n",
        "      )"
      ],
      "execution_count": 0,
      "outputs": []
    }
  ]
}